{
 "cells": [
  {
   "cell_type": "code",
   "execution_count": 1,
   "metadata": {},
   "outputs": [
    {
     "data": {
      "text/plain": [
       "[95, 201]"
      ]
     },
     "execution_count": 1,
     "metadata": {},
     "output_type": "execute_result"
    }
   ],
   "source": [
    "import random\n",
    "data_gen = [random.randint(0,255) for _ in range(2)]\n",
    "data_gen"
   ]
  },
  {
   "cell_type": "code",
   "execution_count": 2,
   "metadata": {},
   "outputs": [],
   "source": [
    "def pr_bin(word, num):\n",
    "    print(word, \"{0:b}\".format(num).zfill(16), num)"
   ]
  },
  {
   "cell_type": "code",
   "execution_count": 3,
   "metadata": {},
   "outputs": [
    {
     "name": "stdout",
     "output_type": "stream",
     "text": [
      "0xe5cc\n",
      "0x0\n"
     ]
    }
   ],
   "source": [
    "import string\n",
    "init_crc = 0xffff\n",
    "poly = 0x1021\n",
    "augm_crc = [0x00, 0x00]\n",
    "\n",
    "data = b'123456789'\n",
    "# data = b'A'\n",
    "\n",
    "def update_crc(byte, crc):\n",
    "    v = 0x80\n",
    "    for i in range(8):\n",
    "\n",
    "        # pr_bin('crc1', crc)\n",
    "\n",
    "        xor_flag = True if crc & 0x8000 else False\n",
    "        crc <<= 1\n",
    "        # pr_bin('crc2', crc)\n",
    "\n",
    "        # python only\n",
    "        crc = crc - 0x10000 if xor_flag else crc\n",
    "        # pr_bin('crc3', crc)\n",
    "\n",
    "        crc = crc + 1 if byte & v else crc\n",
    "        # pr_bin('crc4', crc)\n",
    "\n",
    "        crc = crc ^ poly if xor_flag else crc\n",
    "        # pr_bin('poly', poly)\n",
    "        # pr_bin('crc5', crc)\n",
    "        # print(\"---------------\")\n",
    "        v >>= 1\n",
    "\n",
    "    return crc\n",
    "\n",
    "def encode_crc(data, init_crc):\n",
    "    crc = init_crc\n",
    "    for byte in data:\n",
    "        # print(byte.to_bytes(1, 'big').decode(\"utf-8\"), byte, \"{0:b}\".format(byte).zfill(8))\n",
    "        crc = update_crc(byte, crc)\n",
    "    for byte in augm_crc:\n",
    "        crc = update_crc(byte, crc)\n",
    "    # pr_bin('finl', crc)\n",
    "    return crc\n",
    "\n",
    "key_crc = encode_crc(data, init_crc)\n",
    "print(hex(key_crc))\n",
    "\n",
    "\n",
    "def check_sum(data, init_crc, key_crc):\n",
    "    crc = init_crc\n",
    "    for byte in data:\n",
    "        crc = update_crc(byte, crc)\n",
    "    byte_high = key_crc >> 8\n",
    "    byte_low = key_crc - int(byte_high << 8)\n",
    "    for byte in [byte_high, byte_low]:\n",
    "        crc = update_crc(byte, crc)\n",
    "    return crc\n",
    "\n",
    "result = check_sum(data, init_crc, key_crc)\n",
    "print(hex(result))"
   ]
  }
 ],
 "metadata": {
  "kernelspec": {
   "display_name": "Python 3",
   "language": "python",
   "name": "python3"
  },
  "language_info": {
   "codemirror_mode": {
    "name": "ipython",
    "version": 3
   },
   "file_extension": ".py",
   "mimetype": "text/x-python",
   "name": "python",
   "nbconvert_exporter": "python",
   "pygments_lexer": "ipython3",
   "version": "3.8.18"
  }
 },
 "nbformat": 4,
 "nbformat_minor": 2
}
